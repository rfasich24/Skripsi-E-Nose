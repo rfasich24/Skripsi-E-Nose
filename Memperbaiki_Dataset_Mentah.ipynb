{
  "nbformat": 4,
  "nbformat_minor": 0,
  "metadata": {
    "colab": {
      "provenance": [],
      "authorship_tag": "ABX9TyOGY3d5yWPlvJ3ma2XNzuYt",
      "include_colab_link": true
    },
    "kernelspec": {
      "name": "python3",
      "display_name": "Python 3"
    },
    "language_info": {
      "name": "python"
    }
  },
  "cells": [
    {
      "cell_type": "markdown",
      "metadata": {
        "id": "view-in-github",
        "colab_type": "text"
      },
      "source": [
        "<a href=\"https://colab.research.google.com/github/rfasich24/Skripsi-E-Nose/blob/main/Memperbaiki_Dataset_Mentah.ipynb\" target=\"_parent\"><img src=\"https://colab.research.google.com/assets/colab-badge.svg\" alt=\"Open In Colab\"/></a>"
      ]
    },
    {
      "cell_type": "code",
      "source": [
        "import glob\n",
        "import os\n",
        "\n",
        "csv_files = glob.glob(\"*.csv\")\n",
        "\n",
        "for file_path in csv_files:\n",
        "    with open(file_path, 'r') as file:\n",
        "        file_content = file.read()\n",
        "    if 'Counter' not in df.columns:\n",
        "        # Re-read the CSV, potentially with no header initially to inspect the first row\n",
        "        df = pd.read_csv(file_path, sep=',', header=None)\n",
        "        # Assuming the first row contains the header, assign it and re-read with the correct header\n",
        "        new_header = df.iloc[0]\n",
        "        df = df[1:].copy()\n",
        "        df.columns = new_header.str.strip() # Strip whitespace from column names\n",
        "        # Reset index after removing the header row\n",
        "        df.reset_index(drop=True, inplace=True)\n",
        "    # Replace semicolon with comma\n",
        "    modified_content = file_content.replace(';', ',')\n",
        "\n",
        "    with open(file_path, 'w') as file:\n",
        "        file.write(modified_content)\n",
        "\n",
        "print(\"Separator changed from ';' to ',' for all CSV files.\")"
      ],
      "metadata": {
        "colab": {
          "base_uri": "https://localhost:8080/"
        },
        "id": "G-Kik4_LfAMz",
        "outputId": "81047d7e-4cda-4c7e-cd6c-213735e7e024"
      },
      "execution_count": 8,
      "outputs": [
        {
          "output_type": "stream",
          "name": "stdout",
          "text": [
            "Separator changed from ';' to ',' for all CSV files.\n"
          ]
        }
      ]
    },
    {
      "cell_type": "markdown",
      "metadata": {
        "id": "8d8b9f85"
      },
      "source": [
        "# Task\n",
        "Baca semua file csv yang ada pada runtime. lalu periksa setiap baris termasuk nilai di kolom Counter, jika terdapat baris selain header yang nilainya NaN atau karakter tidak jelas, atau nilai yang aneh hapus baris tersebut lalu gantikan nilainya dengan nilai baris sebelumnya dengan counter yang tetap melanjutkan counter sebelumnya. terakhir pastikan seluruh nilai tipenya adalah numerik dimana kolom (MQ2, MQ3, MQ4, MQ7, MQ8, MQ135, MQ137, TGS) tipe datanya integer, dan kolom (Suhu_C, Kelembaban) tipe data Float dengan maksimal 2 angka dibelakang koma. Timpa file asli lalu download semua file dalam bentuk zip"
      ]
    },
    {
      "cell_type": "markdown",
      "metadata": {
        "id": "935e2cc8"
      },
      "source": [
        "## Dapatkan daftar file csv\n",
        "\n",
        "### Subtask:\n",
        "Identifikasi semua file CSV yang ada di lingkungan runtime.\n"
      ]
    },
    {
      "cell_type": "markdown",
      "metadata": {
        "id": "bdf60b23"
      },
      "source": [
        "**Reasoning**:\n",
        "Use the `glob` module to find all CSV files in the current directory and print the list.\n",
        "\n"
      ]
    },
    {
      "cell_type": "code",
      "metadata": {
        "colab": {
          "base_uri": "https://localhost:8080/"
        },
        "id": "1081739f",
        "outputId": "ebba3bc0-b812-4d67-94e1-6a40aa4f6153"
      },
      "source": [
        "csv_files = glob.glob(\"*.csv\")\n",
        "print(csv_files)"
      ],
      "execution_count": 9,
      "outputs": [
        {
          "output_type": "stream",
          "name": "stdout",
          "text": [
            "['Sample 3 Grade 1.csv', 'Sample 1 Grade 1.csv', 'Sample 4 Grade 1.csv', 'Sample 5 Grade 1.csv', 'Sample 2 Grade 1.csv']\n"
          ]
        }
      ]
    },
    {
      "cell_type": "markdown",
      "metadata": {
        "id": "652167b0"
      },
      "source": [
        "## Proses setiap file csv\n",
        "\n",
        "### Subtask:\n",
        "Baca file CSV, tentukan separator yang ada saat ini. Ganti separator yang ada dengan koma. Timpa file asli dengan konten yang sudah diubah separatornya.\n"
      ]
    },
    {
      "cell_type": "markdown",
      "metadata": {
        "id": "ef7e8b6a"
      },
      "source": [
        "**Reasoning**:\n",
        "Process each CSV file to handle missing/invalid values, correct the counter, and enforce specific data types for columns before saving the modified file.\n",
        "\n"
      ]
    },
    {
      "cell_type": "code",
      "metadata": {
        "colab": {
          "base_uri": "https://localhost:8080/"
        },
        "id": "vzEfU6JDhZJy",
        "outputId": "59df8311-666f-40e2-80fc-973d1f2d13fd"
      },
      "source": [
        "import pandas as pd\n",
        "import numpy as np\n",
        "\n",
        "for file_path in csv_files:\n",
        "    # Read the file with the correct separator (which is now a comma) and ensure header is correctly parsed\n",
        "    df = pd.read_csv(file_path, sep=',')\n",
        "\n",
        "    # Check if 'Counter' column exists, if not, try to infer the correct header\n",
        "    if 'Counter' not in df.columns:\n",
        "        # Re-read the CSV, potentially with no header initially to inspect the first row\n",
        "        df = pd.read_csv(file_path, sep=',', header=None)\n",
        "        # Assuming the first row contains the header, assign it and re-read with the correct header\n",
        "        new_header = df.iloc[0]\n",
        "        df = df[1:].copy()\n",
        "        df.columns = new_header.str.strip() # Strip whitespace from column names\n",
        "        # Reset index after removing the header row\n",
        "        df.reset_index(drop=True, inplace=True)\n",
        "\n",
        "    # Now that we are sure 'Counter' column exists, proceed with processing\n",
        "    # Ensure 'Counter' is treated as numeric before checking for NaN or invalid values\n",
        "    df['Counter'] = pd.to_numeric(df['Counter'], errors='coerce')\n",
        "\n",
        "    # Handle problematic rows and correct the counter\n",
        "    for i in range(1, len(df)):\n",
        "        # Check for any NaN in the row or if Counter is NaN or not incrementing correctly\n",
        "        if df.iloc[i].isnull().any() or pd.isna(df.iloc[i]['Counter']) or (i > 0 and df.iloc[i]['Counter'] != df.iloc[i-1]['Counter'] + 1):\n",
        "             df.iloc[i] = df.iloc[i-1].copy() # Use .copy() to avoid SettingWithCopyWarning\n",
        "             df.loc[i, 'Counter'] = df.loc[i-1, 'Counter'] + 1 # Ensure counter increments\n",
        "\n",
        "    # Convert data types and handle errors by filling with previous valid entry\n",
        "    int_cols = ['MQ2', 'MQ3', 'MQ4', 'MQ7', 'MQ8', 'MQ135', 'MQ137', 'TGS']\n",
        "    float_cols = ['Suhu_C', 'Kelembaban']\n",
        "\n",
        "    for col in int_cols:\n",
        "        df[col] = pd.to_numeric(df[col], errors='coerce').astype('Int64') # Use Int64 to allow NaN\n",
        "        df[col] = df[col].ffill() # Use ffill()\n",
        "        df[col] = df[col].astype(int) # Convert to native int after filling\n",
        "\n",
        "\n",
        "    for col in float_cols:\n",
        "        df[col] = pd.to_numeric(df[col], errors='coerce')\n",
        "        df[col] = df[col].ffill() # Use ffill()\n",
        "        df[col] = df[col].round(2)\n",
        "\n",
        "    # Convert 'Counter' to integer type before saving\n",
        "    df['Counter'] = df['Counter'].astype(int)\n",
        "\n",
        "    # Save the modified DataFrame back to the original file\n",
        "    df.to_csv(file_path, index=False, sep=',')\n",
        "\n",
        "print(\"CSV files processed and saved.\")"
      ],
      "execution_count": 12,
      "outputs": [
        {
          "output_type": "stream",
          "name": "stdout",
          "text": [
            "CSV files processed and saved.\n"
          ]
        }
      ]
    },
    {
      "cell_type": "markdown",
      "metadata": {
        "id": "3f5ec145"
      },
      "source": [
        "## Buat file zip\n",
        "\n",
        "### Subtask:\n",
        "Kompres semua file CSV yang dimodifikasi menjadi satu file zip.\n"
      ]
    },
    {
      "cell_type": "markdown",
      "metadata": {
        "id": "ff950e4b"
      },
      "source": [
        "**Reasoning**:\n",
        "Compress all modified CSV files into a single zip file.\n",
        "\n"
      ]
    },
    {
      "cell_type": "code",
      "metadata": {
        "colab": {
          "base_uri": "https://localhost:8080/",
          "height": 35
        },
        "id": "3173f091",
        "outputId": "59ae8c6d-1d5a-4669-d5ff-cc782430769c"
      },
      "source": [
        "import zipfile\n",
        "import os\n",
        "from google.colab import files\n",
        "\n",
        "zip_file_name = 'Modified_Dataset.zip'\n",
        "\n",
        "with zipfile.ZipFile(zip_file_name, 'w') as zipf:\n",
        "    for file in csv_files:\n",
        "        if os.path.exists(file):\n",
        "            zipf.write(file, os.path.basename(file))\n",
        "        else:\n",
        "            print(f\"Warning: File {file} not found, skipping.\")\n",
        "\n",
        "print(f\"Successfully created {zip_file_name} containing the modified CSV files.\")\n",
        "\n",
        "files.download('Modified_Dataset.zip')"
      ],
      "execution_count": 13,
      "outputs": [
        {
          "output_type": "stream",
          "name": "stdout",
          "text": [
            "Successfully created Grade_1.zip containing the modified CSV files.\n"
          ]
        },
        {
          "output_type": "display_data",
          "data": {
            "text/plain": [
              "<IPython.core.display.Javascript object>"
            ],
            "application/javascript": [
              "\n",
              "    async function download(id, filename, size) {\n",
              "      if (!google.colab.kernel.accessAllowed) {\n",
              "        return;\n",
              "      }\n",
              "      const div = document.createElement('div');\n",
              "      const label = document.createElement('label');\n",
              "      label.textContent = `Downloading \"${filename}\": `;\n",
              "      div.appendChild(label);\n",
              "      const progress = document.createElement('progress');\n",
              "      progress.max = size;\n",
              "      div.appendChild(progress);\n",
              "      document.body.appendChild(div);\n",
              "\n",
              "      const buffers = [];\n",
              "      let downloaded = 0;\n",
              "\n",
              "      const channel = await google.colab.kernel.comms.open(id);\n",
              "      // Send a message to notify the kernel that we're ready.\n",
              "      channel.send({})\n",
              "\n",
              "      for await (const message of channel.messages) {\n",
              "        // Send a message to notify the kernel that we're ready.\n",
              "        channel.send({})\n",
              "        if (message.buffers) {\n",
              "          for (const buffer of message.buffers) {\n",
              "            buffers.push(buffer);\n",
              "            downloaded += buffer.byteLength;\n",
              "            progress.value = downloaded;\n",
              "          }\n",
              "        }\n",
              "      }\n",
              "      const blob = new Blob(buffers, {type: 'application/binary'});\n",
              "      const a = document.createElement('a');\n",
              "      a.href = window.URL.createObjectURL(blob);\n",
              "      a.download = filename;\n",
              "      div.appendChild(a);\n",
              "      a.click();\n",
              "      div.remove();\n",
              "    }\n",
              "  "
            ]
          },
          "metadata": {}
        },
        {
          "output_type": "display_data",
          "data": {
            "text/plain": [
              "<IPython.core.display.Javascript object>"
            ],
            "application/javascript": [
              "download(\"download_5fa0abdc-3061-4a76-826b-5f3094713e68\", \"Grade_1.zip\", 4880248)"
            ]
          },
          "metadata": {}
        }
      ]
    }
  ]
}